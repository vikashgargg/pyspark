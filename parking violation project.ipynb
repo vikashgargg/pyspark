{
 "cells": [
  {
   "cell_type": "code",
   "execution_count": 35,
   "id": "319208bc",
   "metadata": {},
   "outputs": [],
   "source": [
    "from pyspark.sql import SparkSession"
   ]
  },
  {
   "cell_type": "code",
   "execution_count": 36,
   "id": "9d7e87c4",
   "metadata": {},
   "outputs": [],
   "source": [
    "from pyspark.sql.window import Window\n",
    "from pyspark.sql.functions import rank, col"
   ]
  },
  {
   "cell_type": "code",
   "execution_count": 37,
   "id": "dad61c7e",
   "metadata": {},
   "outputs": [],
   "source": [
    "spark=SparkSession.builder.appName('parking_violations').getOrCreate()"
   ]
  },
  {
   "cell_type": "code",
   "execution_count": 38,
   "id": "717b275f",
   "metadata": {},
   "outputs": [],
   "source": [
    "parking_violdf=spark.read.format(\"csv\").option('inferSchema','True').option('header','true').\\\n",
    "load('Parking_Violations_Issued_-_Fiscal_Year_2017.csv')"
   ]
  },
  {
   "cell_type": "code",
   "execution_count": 39,
   "id": "715b6ad0",
   "metadata": {},
   "outputs": [
    {
     "data": {
      "text/plain": [
       "StructType(List(StructField(Summons Number,LongType,true),StructField(Plate ID,StringType,true),StructField(Registration State,StringType,true),StructField(Plate Type,StringType,true),StructField(Issue Date,StringType,true),StructField(Violation Code,IntegerType,true),StructField(Vehicle Body Type,StringType,true),StructField(Vehicle Make,StringType,true),StructField(Issuing Agency,StringType,true),StructField(Street Code1,IntegerType,true),StructField(Street Code2,IntegerType,true),StructField(Street Code3,IntegerType,true),StructField(Vehicle Expiration Date,IntegerType,true),StructField(Violation Location,IntegerType,true),StructField(Violation Precinct,IntegerType,true),StructField(Issuer Precinct,IntegerType,true),StructField(Issuer Code,IntegerType,true),StructField(Issuer Command,StringType,true),StructField(Issuer Squad,StringType,true),StructField(Violation Time,StringType,true),StructField(Time First Observed,StringType,true),StructField(Violation County,StringType,true),StructField(Violation In Front Of Or Opposite,StringType,true),StructField(House Number,StringType,true),StructField(Street Name,StringType,true),StructField(Intersecting Street,StringType,true),StructField(Date First Observed,IntegerType,true),StructField(Law Section,IntegerType,true),StructField(Sub Division,StringType,true),StructField(Violation Legal Code,StringType,true),StructField(Days Parking In Effect    ,StringType,true),StructField(From Hours In Effect,StringType,true),StructField(To Hours In Effect,StringType,true),StructField(Vehicle Color,StringType,true),StructField(Unregistered Vehicle?,IntegerType,true),StructField(Vehicle Year,IntegerType,true),StructField(Meter Number,StringType,true),StructField(Feet From Curb,IntegerType,true),StructField(Violation Post Code,StringType,true),StructField(Violation Description,StringType,true),StructField(No Standing or Stopping Violation,StringType,true),StructField(Hydrant Violation,StringType,true),StructField(Double Parking Violation,StringType,true)))"
      ]
     },
     "execution_count": 39,
     "metadata": {},
     "output_type": "execute_result"
    }
   ],
   "source": [
    "parking_violdf.schema"
   ]
  },
  {
   "cell_type": "code",
   "execution_count": 40,
   "id": "4bc7a641",
   "metadata": {},
   "outputs": [
    {
     "data": {
      "text/html": [
       "<div>\n",
       "<style scoped>\n",
       "    .dataframe tbody tr th:only-of-type {\n",
       "        vertical-align: middle;\n",
       "    }\n",
       "\n",
       "    .dataframe tbody tr th {\n",
       "        vertical-align: top;\n",
       "    }\n",
       "\n",
       "    .dataframe thead th {\n",
       "        text-align: right;\n",
       "    }\n",
       "</style>\n",
       "<table border=\"1\" class=\"dataframe\">\n",
       "  <thead>\n",
       "    <tr style=\"text-align: right;\">\n",
       "      <th></th>\n",
       "      <th>Summons Number</th>\n",
       "      <th>Plate ID</th>\n",
       "      <th>Registration State</th>\n",
       "      <th>Plate Type</th>\n",
       "      <th>Issue Date</th>\n",
       "      <th>Violation Code</th>\n",
       "      <th>Vehicle Body Type</th>\n",
       "      <th>Vehicle Make</th>\n",
       "      <th>Issuing Agency</th>\n",
       "      <th>Street Code1</th>\n",
       "      <th>...</th>\n",
       "      <th>Vehicle Color</th>\n",
       "      <th>Unregistered Vehicle?</th>\n",
       "      <th>Vehicle Year</th>\n",
       "      <th>Meter Number</th>\n",
       "      <th>Feet From Curb</th>\n",
       "      <th>Violation Post Code</th>\n",
       "      <th>Violation Description</th>\n",
       "      <th>No Standing or Stopping Violation</th>\n",
       "      <th>Hydrant Violation</th>\n",
       "      <th>Double Parking Violation</th>\n",
       "    </tr>\n",
       "  </thead>\n",
       "  <tbody>\n",
       "    <tr>\n",
       "      <th>0</th>\n",
       "      <td>5092469481</td>\n",
       "      <td>GZH7067</td>\n",
       "      <td>NY</td>\n",
       "      <td>PAS</td>\n",
       "      <td>07/10/2016</td>\n",
       "      <td>7</td>\n",
       "      <td>SUBN</td>\n",
       "      <td>TOYOT</td>\n",
       "      <td>V</td>\n",
       "      <td>0</td>\n",
       "      <td>...</td>\n",
       "      <td>GY</td>\n",
       "      <td>NaN</td>\n",
       "      <td>2001</td>\n",
       "      <td>None</td>\n",
       "      <td>0</td>\n",
       "      <td>None</td>\n",
       "      <td>FAILURE TO STOP AT RED LIGHT</td>\n",
       "      <td>None</td>\n",
       "      <td>None</td>\n",
       "      <td>None</td>\n",
       "    </tr>\n",
       "    <tr>\n",
       "      <th>1</th>\n",
       "      <td>5092451658</td>\n",
       "      <td>GZH7067</td>\n",
       "      <td>NY</td>\n",
       "      <td>PAS</td>\n",
       "      <td>07/08/2016</td>\n",
       "      <td>7</td>\n",
       "      <td>SUBN</td>\n",
       "      <td>TOYOT</td>\n",
       "      <td>V</td>\n",
       "      <td>0</td>\n",
       "      <td>...</td>\n",
       "      <td>GY</td>\n",
       "      <td>NaN</td>\n",
       "      <td>2001</td>\n",
       "      <td>None</td>\n",
       "      <td>0</td>\n",
       "      <td>None</td>\n",
       "      <td>FAILURE TO STOP AT RED LIGHT</td>\n",
       "      <td>None</td>\n",
       "      <td>None</td>\n",
       "      <td>None</td>\n",
       "    </tr>\n",
       "    <tr>\n",
       "      <th>2</th>\n",
       "      <td>4631633384</td>\n",
       "      <td>AVM7975</td>\n",
       "      <td>NY</td>\n",
       "      <td>PAS</td>\n",
       "      <td>03/09/2017</td>\n",
       "      <td>36</td>\n",
       "      <td>SUBN</td>\n",
       "      <td>GMC</td>\n",
       "      <td>V</td>\n",
       "      <td>0</td>\n",
       "      <td>...</td>\n",
       "      <td>GY</td>\n",
       "      <td>NaN</td>\n",
       "      <td>2010</td>\n",
       "      <td>None</td>\n",
       "      <td>0</td>\n",
       "      <td>None</td>\n",
       "      <td>PHTO SCHOOL ZN SPEED VIOLATION</td>\n",
       "      <td>None</td>\n",
       "      <td>None</td>\n",
       "      <td>None</td>\n",
       "    </tr>\n",
       "    <tr>\n",
       "      <th>3</th>\n",
       "      <td>8196557280</td>\n",
       "      <td>GWB7054</td>\n",
       "      <td>NY</td>\n",
       "      <td>PAS</td>\n",
       "      <td>01/18/2017</td>\n",
       "      <td>70</td>\n",
       "      <td>SUBN</td>\n",
       "      <td>TOYOT</td>\n",
       "      <td>T</td>\n",
       "      <td>59590</td>\n",
       "      <td>...</td>\n",
       "      <td>BL</td>\n",
       "      <td>NaN</td>\n",
       "      <td>2015</td>\n",
       "      <td>None</td>\n",
       "      <td>0</td>\n",
       "      <td>05</td>\n",
       "      <td>70A-Reg. Sticker Expired (NYS)</td>\n",
       "      <td>None</td>\n",
       "      <td>None</td>\n",
       "      <td>None</td>\n",
       "    </tr>\n",
       "    <tr>\n",
       "      <th>4</th>\n",
       "      <td>4631184358</td>\n",
       "      <td>EXZ9820</td>\n",
       "      <td>NY</td>\n",
       "      <td>PAS</td>\n",
       "      <td>03/02/2017</td>\n",
       "      <td>36</td>\n",
       "      <td>4DSD</td>\n",
       "      <td>HONDA</td>\n",
       "      <td>V</td>\n",
       "      <td>0</td>\n",
       "      <td>...</td>\n",
       "      <td>GR</td>\n",
       "      <td>NaN</td>\n",
       "      <td>1997</td>\n",
       "      <td>None</td>\n",
       "      <td>0</td>\n",
       "      <td>None</td>\n",
       "      <td>PHTO SCHOOL ZN SPEED VIOLATION</td>\n",
       "      <td>None</td>\n",
       "      <td>None</td>\n",
       "      <td>None</td>\n",
       "    </tr>\n",
       "  </tbody>\n",
       "</table>\n",
       "<p>5 rows × 43 columns</p>\n",
       "</div>"
      ],
      "text/plain": [
       "   Summons Number Plate ID Registration State Plate Type  Issue Date  \\\n",
       "0      5092469481  GZH7067                 NY        PAS  07/10/2016   \n",
       "1      5092451658  GZH7067                 NY        PAS  07/08/2016   \n",
       "2      4631633384  AVM7975                 NY        PAS  03/09/2017   \n",
       "3      8196557280  GWB7054                 NY        PAS  01/18/2017   \n",
       "4      4631184358  EXZ9820                 NY        PAS  03/02/2017   \n",
       "\n",
       "   Violation Code Vehicle Body Type Vehicle Make Issuing Agency  Street Code1  \\\n",
       "0               7              SUBN        TOYOT              V             0   \n",
       "1               7              SUBN        TOYOT              V             0   \n",
       "2              36              SUBN          GMC              V             0   \n",
       "3              70              SUBN        TOYOT              T         59590   \n",
       "4              36              4DSD        HONDA              V             0   \n",
       "\n",
       "   ...  Vehicle Color  Unregistered Vehicle?  Vehicle Year  Meter Number  \\\n",
       "0  ...             GY                    NaN          2001          None   \n",
       "1  ...             GY                    NaN          2001          None   \n",
       "2  ...             GY                    NaN          2010          None   \n",
       "3  ...             BL                    NaN          2015          None   \n",
       "4  ...             GR                    NaN          1997          None   \n",
       "\n",
       "   Feet From Curb  Violation Post Code           Violation Description  \\\n",
       "0               0                 None    FAILURE TO STOP AT RED LIGHT   \n",
       "1               0                 None    FAILURE TO STOP AT RED LIGHT   \n",
       "2               0                 None  PHTO SCHOOL ZN SPEED VIOLATION   \n",
       "3               0                   05  70A-Reg. Sticker Expired (NYS)   \n",
       "4               0                 None  PHTO SCHOOL ZN SPEED VIOLATION   \n",
       "\n",
       "  No Standing or Stopping Violation Hydrant Violation Double Parking Violation  \n",
       "0                              None              None                     None  \n",
       "1                              None              None                     None  \n",
       "2                              None              None                     None  \n",
       "3                              None              None                     None  \n",
       "4                              None              None                     None  \n",
       "\n",
       "[5 rows x 43 columns]"
      ]
     },
     "execution_count": 40,
     "metadata": {},
     "output_type": "execute_result"
    }
   ],
   "source": [
    "parking_violdf.limit(5).toPandas()\n",
    "# parking_violdf.show(5).toPandas()"
   ]
  },
  {
   "cell_type": "code",
   "execution_count": 41,
   "id": "26ddef45",
   "metadata": {},
   "outputs": [],
   "source": [
    "parking_violation_2017=parking_violdf.filter(col('Issue Date').contains('2017')).\\\n",
    "select(col('Summons Number').alias('ticket'),\\\n",
    "       col('Registration State').alias('registrations_state'),\\\n",
    "       col('Issue Date').alias('issue_date'),\\\n",
    "       col('Violation Code').alias('violation_code'),\\\n",
    "      col('Vehicle Body Type').alias('vehicle_body_type'),\\\n",
    "      col('Vehicle Make').alias('vehicle_make'),\n",
    "      col('Street Code1').alias('street_code1'),\\\n",
    "      col('Street Code2').alias('street_code2'),\\\n",
    "      col('Street Code3').alias('street_code3'),\\\n",
    "      col('Violation Precinct').alias('violation_precinct'),\\\n",
    "      col('Issuer Precinct').alias('issuer_precinct'),\\\n",
    "      col('Violation Time').alias('violation_time'))"
   ]
  },
  {
   "cell_type": "code",
   "execution_count": 42,
   "id": "abe2f7c5",
   "metadata": {},
   "outputs": [
    {
     "data": {
      "text/plain": [
       "5431918"
      ]
     },
     "execution_count": 42,
     "metadata": {},
     "output_type": "execute_result"
    }
   ],
   "source": [
    "parking_violation_2017.count()"
   ]
  },
  {
   "cell_type": "code",
   "execution_count": 43,
   "id": "37f8963f",
   "metadata": {},
   "outputs": [
    {
     "data": {
      "text/plain": [
       "5431918"
      ]
     },
     "execution_count": 43,
     "metadata": {},
     "output_type": "execute_result"
    }
   ],
   "source": [
    "parking_violation_2017.select('ticket').alias('count').distinct().count()"
   ]
  },
  {
   "cell_type": "code",
   "execution_count": 44,
   "id": "954b1bc4",
   "metadata": {},
   "outputs": [
    {
     "data": {
      "text/plain": [
       "65"
      ]
     },
     "execution_count": 44,
     "metadata": {},
     "output_type": "execute_result"
    }
   ],
   "source": [
    "parking_violation_2017.select('registrations_state').distinct().count()"
   ]
  },
  {
   "cell_type": "code",
   "execution_count": 45,
   "id": "9fdcbd94",
   "metadata": {},
   "outputs": [
    {
     "data": {
      "text/plain": [
       "1816814"
      ]
     },
     "execution_count": 45,
     "metadata": {},
     "output_type": "execute_result"
    }
   ],
   "source": [
    "parking_violation_2017.filter('street_code1=0 or street_code2=0 or street_code3=0').select('ticket').count()"
   ]
  },
  {
   "cell_type": "code",
   "execution_count": 46,
   "id": "45867866",
   "metadata": {},
   "outputs": [
    {
     "data": {
      "text/html": [
       "<div>\n",
       "<style scoped>\n",
       "    .dataframe tbody tr th:only-of-type {\n",
       "        vertical-align: middle;\n",
       "    }\n",
       "\n",
       "    .dataframe tbody tr th {\n",
       "        vertical-align: top;\n",
       "    }\n",
       "\n",
       "    .dataframe thead th {\n",
       "        text-align: right;\n",
       "    }\n",
       "</style>\n",
       "<table border=\"1\" class=\"dataframe\">\n",
       "  <thead>\n",
       "    <tr style=\"text-align: right;\">\n",
       "      <th></th>\n",
       "      <th>violation_code</th>\n",
       "      <th>violation_code_freq</th>\n",
       "    </tr>\n",
       "  </thead>\n",
       "  <tbody>\n",
       "    <tr>\n",
       "      <th>0</th>\n",
       "      <td>21</td>\n",
       "      <td>768087</td>\n",
       "    </tr>\n",
       "    <tr>\n",
       "      <th>1</th>\n",
       "      <td>36</td>\n",
       "      <td>662765</td>\n",
       "    </tr>\n",
       "    <tr>\n",
       "      <th>2</th>\n",
       "      <td>38</td>\n",
       "      <td>542079</td>\n",
       "    </tr>\n",
       "    <tr>\n",
       "      <th>3</th>\n",
       "      <td>14</td>\n",
       "      <td>476664</td>\n",
       "    </tr>\n",
       "    <tr>\n",
       "      <th>4</th>\n",
       "      <td>20</td>\n",
       "      <td>319646</td>\n",
       "    </tr>\n",
       "  </tbody>\n",
       "</table>\n",
       "</div>"
      ],
      "text/plain": [
       "   violation_code  violation_code_freq\n",
       "0              21               768087\n",
       "1              36               662765\n",
       "2              38               542079\n",
       "3              14               476664\n",
       "4              20               319646"
      ]
     },
     "execution_count": 46,
     "metadata": {},
     "output_type": "execute_result"
    }
   ],
   "source": [
    "parking_violation_2017.groupby(col('violation_code')).count().withColumnRenamed('count','violation_code_freq').\\\n",
    "sort(col('violation_code_freq').desc()).\\\n",
    "select('violation_code','violation_code_freq').limit(5).toPandas()"
   ]
  },
  {
   "cell_type": "code",
   "execution_count": 47,
   "id": "61512528",
   "metadata": {},
   "outputs": [
    {
     "data": {
      "text/html": [
       "<div>\n",
       "<style scoped>\n",
       "    .dataframe tbody tr th:only-of-type {\n",
       "        vertical-align: middle;\n",
       "    }\n",
       "\n",
       "    .dataframe tbody tr th {\n",
       "        vertical-align: top;\n",
       "    }\n",
       "\n",
       "    .dataframe thead th {\n",
       "        text-align: right;\n",
       "    }\n",
       "</style>\n",
       "<table border=\"1\" class=\"dataframe\">\n",
       "  <thead>\n",
       "    <tr style=\"text-align: right;\">\n",
       "      <th></th>\n",
       "      <th>vehicle_body_type</th>\n",
       "      <th>vehicle_body_type_freq</th>\n",
       "    </tr>\n",
       "  </thead>\n",
       "  <tbody>\n",
       "    <tr>\n",
       "      <th>0</th>\n",
       "      <td>SUBN</td>\n",
       "      <td>1883954</td>\n",
       "    </tr>\n",
       "    <tr>\n",
       "      <th>1</th>\n",
       "      <td>4DSD</td>\n",
       "      <td>1547312</td>\n",
       "    </tr>\n",
       "    <tr>\n",
       "      <th>2</th>\n",
       "      <td>VAN</td>\n",
       "      <td>724029</td>\n",
       "    </tr>\n",
       "    <tr>\n",
       "      <th>3</th>\n",
       "      <td>DELV</td>\n",
       "      <td>358984</td>\n",
       "    </tr>\n",
       "    <tr>\n",
       "      <th>4</th>\n",
       "      <td>SDN</td>\n",
       "      <td>194197</td>\n",
       "    </tr>\n",
       "  </tbody>\n",
       "</table>\n",
       "</div>"
      ],
      "text/plain": [
       "  vehicle_body_type  vehicle_body_type_freq\n",
       "0              SUBN                 1883954\n",
       "1              4DSD                 1547312\n",
       "2               VAN                  724029\n",
       "3              DELV                  358984\n",
       "4               SDN                  194197"
      ]
     },
     "execution_count": 47,
     "metadata": {},
     "output_type": "execute_result"
    }
   ],
   "source": [
    "parking_violation_2017.groupby(col('vehicle_body_type')).count().withColumnRenamed(\"count\",\"vehicle_body_type_freq\").\\\n",
    "sort(col('vehicle_body_type_freq').desc()).select('vehicle_body_type','vehicle_body_type_freq').\\\n",
    "toPandas().head(5)"
   ]
  },
  {
   "cell_type": "code",
   "execution_count": 48,
   "id": "2cfd10ef",
   "metadata": {},
   "outputs": [
    {
     "data": {
      "text/html": [
       "<div>\n",
       "<style scoped>\n",
       "    .dataframe tbody tr th:only-of-type {\n",
       "        vertical-align: middle;\n",
       "    }\n",
       "\n",
       "    .dataframe tbody tr th {\n",
       "        vertical-align: top;\n",
       "    }\n",
       "\n",
       "    .dataframe thead th {\n",
       "        text-align: right;\n",
       "    }\n",
       "</style>\n",
       "<table border=\"1\" class=\"dataframe\">\n",
       "  <thead>\n",
       "    <tr style=\"text-align: right;\">\n",
       "      <th></th>\n",
       "      <th>vehicle_make</th>\n",
       "      <th>vehicle_make_freq</th>\n",
       "    </tr>\n",
       "  </thead>\n",
       "  <tbody>\n",
       "    <tr>\n",
       "      <th>0</th>\n",
       "      <td>FORD</td>\n",
       "      <td>636844</td>\n",
       "    </tr>\n",
       "    <tr>\n",
       "      <th>1</th>\n",
       "      <td>TOYOT</td>\n",
       "      <td>605291</td>\n",
       "    </tr>\n",
       "    <tr>\n",
       "      <th>2</th>\n",
       "      <td>HONDA</td>\n",
       "      <td>538884</td>\n",
       "    </tr>\n",
       "    <tr>\n",
       "      <th>3</th>\n",
       "      <td>NISSA</td>\n",
       "      <td>462017</td>\n",
       "    </tr>\n",
       "    <tr>\n",
       "      <th>4</th>\n",
       "      <td>CHEVR</td>\n",
       "      <td>356032</td>\n",
       "    </tr>\n",
       "  </tbody>\n",
       "</table>\n",
       "</div>"
      ],
      "text/plain": [
       "  vehicle_make  vehicle_make_freq\n",
       "0         FORD             636844\n",
       "1        TOYOT             605291\n",
       "2        HONDA             538884\n",
       "3        NISSA             462017\n",
       "4        CHEVR             356032"
      ]
     },
     "execution_count": 48,
     "metadata": {},
     "output_type": "execute_result"
    }
   ],
   "source": [
    "parking_violation_2017.groupby(col('vehicle_make')).count().withColumnRenamed(\"count\",\"vehicle_make_freq\").\\\n",
    "sort(col('vehicle_make_freq').desc()).select('vehicle_make','vehicle_make_freq').\\\n",
    "toPandas().head(5)"
   ]
  },
  {
   "cell_type": "code",
   "execution_count": 49,
   "id": "8c7950f7",
   "metadata": {},
   "outputs": [
    {
     "data": {
      "text/html": [
       "<div>\n",
       "<style scoped>\n",
       "    .dataframe tbody tr th:only-of-type {\n",
       "        vertical-align: middle;\n",
       "    }\n",
       "\n",
       "    .dataframe tbody tr th {\n",
       "        vertical-align: top;\n",
       "    }\n",
       "\n",
       "    .dataframe thead th {\n",
       "        text-align: right;\n",
       "    }\n",
       "</style>\n",
       "<table border=\"1\" class=\"dataframe\">\n",
       "  <thead>\n",
       "    <tr style=\"text-align: right;\">\n",
       "      <th></th>\n",
       "      <th>violation_precinct</th>\n",
       "      <th>violation_freq</th>\n",
       "    </tr>\n",
       "  </thead>\n",
       "  <tbody>\n",
       "    <tr>\n",
       "      <th>0</th>\n",
       "      <td>19</td>\n",
       "      <td>274445</td>\n",
       "    </tr>\n",
       "    <tr>\n",
       "      <th>1</th>\n",
       "      <td>14</td>\n",
       "      <td>203553</td>\n",
       "    </tr>\n",
       "    <tr>\n",
       "      <th>2</th>\n",
       "      <td>1</td>\n",
       "      <td>174702</td>\n",
       "    </tr>\n",
       "    <tr>\n",
       "      <th>3</th>\n",
       "      <td>18</td>\n",
       "      <td>169131</td>\n",
       "    </tr>\n",
       "    <tr>\n",
       "      <th>4</th>\n",
       "      <td>114</td>\n",
       "      <td>147444</td>\n",
       "    </tr>\n",
       "  </tbody>\n",
       "</table>\n",
       "</div>"
      ],
      "text/plain": [
       "   violation_precinct  violation_freq\n",
       "0                  19          274445\n",
       "1                  14          203553\n",
       "2                   1          174702\n",
       "3                  18          169131\n",
       "4                 114          147444"
      ]
     },
     "execution_count": 49,
     "metadata": {},
     "output_type": "execute_result"
    }
   ],
   "source": [
    "parking_violation_2017.filter('violation_precinct !=0').groupby(col('violation_precinct')).count().withColumnRenamed(\"count\",\"violation_freq\").\\\n",
    "sort(col('violation_freq').desc()).select('violation_precinct','violation_freq').\\\n",
    "toPandas().head(5)"
   ]
  },
  {
   "cell_type": "code",
   "execution_count": 50,
   "id": "529579be",
   "metadata": {},
   "outputs": [
    {
     "data": {
      "text/html": [
       "<div>\n",
       "<style scoped>\n",
       "    .dataframe tbody tr th:only-of-type {\n",
       "        vertical-align: middle;\n",
       "    }\n",
       "\n",
       "    .dataframe tbody tr th {\n",
       "        vertical-align: top;\n",
       "    }\n",
       "\n",
       "    .dataframe thead th {\n",
       "        text-align: right;\n",
       "    }\n",
       "</style>\n",
       "<table border=\"1\" class=\"dataframe\">\n",
       "  <thead>\n",
       "    <tr style=\"text-align: right;\">\n",
       "      <th></th>\n",
       "      <th>issuer_precinct</th>\n",
       "      <th>violation_freq</th>\n",
       "    </tr>\n",
       "  </thead>\n",
       "  <tbody>\n",
       "    <tr>\n",
       "      <th>0</th>\n",
       "      <td>19</td>\n",
       "      <td>266961</td>\n",
       "    </tr>\n",
       "    <tr>\n",
       "      <th>1</th>\n",
       "      <td>14</td>\n",
       "      <td>200495</td>\n",
       "    </tr>\n",
       "    <tr>\n",
       "      <th>2</th>\n",
       "      <td>1</td>\n",
       "      <td>168740</td>\n",
       "    </tr>\n",
       "    <tr>\n",
       "      <th>3</th>\n",
       "      <td>18</td>\n",
       "      <td>162994</td>\n",
       "    </tr>\n",
       "    <tr>\n",
       "      <th>4</th>\n",
       "      <td>114</td>\n",
       "      <td>144054</td>\n",
       "    </tr>\n",
       "  </tbody>\n",
       "</table>\n",
       "</div>"
      ],
      "text/plain": [
       "   issuer_precinct  violation_freq\n",
       "0               19          266961\n",
       "1               14          200495\n",
       "2                1          168740\n",
       "3               18          162994\n",
       "4              114          144054"
      ]
     },
     "execution_count": 50,
     "metadata": {},
     "output_type": "execute_result"
    }
   ],
   "source": [
    "parking_violation_2017.filter('issuer_precinct !=0').groupby(col('issuer_precinct')).\\\n",
    "count().withColumnRenamed(\"count\",\"violation_freq\").\\\n",
    "sort(col('violation_freq').desc()).select('issuer_precinct','violation_freq').\\\n",
    "toPandas().head(5)"
   ]
  },
  {
   "cell_type": "code",
   "execution_count": 51,
   "id": "c2ac15f3",
   "metadata": {},
   "outputs": [],
   "source": [
    "precinct_viol_count=parking_violation_2017.filter('issuer_precinct !=0').\\\n",
    "groupBy('issuer_precinct','violation_code').\\\n",
    "count().sort(col('count').desc())"
   ]
  },
  {
   "cell_type": "code",
   "execution_count": 52,
   "id": "c5425466",
   "metadata": {},
   "outputs": [
    {
     "name": "stdout",
     "output_type": "stream",
     "text": [
      "+---------------+--------------+-----+\n",
      "|issuer_precinct|violation_code|count|\n",
      "+---------------+--------------+-----+\n",
      "|             18|            14|50150|\n",
      "|             19|            46|48445|\n",
      "|             14|            14|45036|\n",
      "|              1|            14|38354|\n",
      "|             19|            38|36386|\n",
      "+---------------+--------------+-----+\n",
      "only showing top 5 rows\n",
      "\n"
     ]
    }
   ],
   "source": [
    "precinct_viol_count.show(5)"
   ]
  },
  {
   "cell_type": "code",
   "execution_count": 53,
   "id": "1a45a78a",
   "metadata": {},
   "outputs": [],
   "source": [
    "top_precinct=parking_violation_2017.filter('issuer_precinct !=0').groupby(col('issuer_precinct')).\\\n",
    "count().withColumnRenamed(\"count\",\"violation_freq\").\\\n",
    "sort(col('violation_freq').desc()).select('issuer_precinct','violation_freq').limit(3)"
   ]
  },
  {
   "cell_type": "code",
   "execution_count": 54,
   "id": "f9de2793",
   "metadata": {},
   "outputs": [
    {
     "name": "stdout",
     "output_type": "stream",
     "text": [
      "+---------------+--------------+\n",
      "|issuer_precinct|violation_freq|\n",
      "+---------------+--------------+\n",
      "|             19|        266961|\n",
      "|             14|        200495|\n",
      "|              1|        168740|\n",
      "+---------------+--------------+\n",
      "\n"
     ]
    }
   ],
   "source": [
    "top_precinct.show()"
   ]
  },
  {
   "cell_type": "code",
   "execution_count": 55,
   "id": "4e92a6c7",
   "metadata": {},
   "outputs": [],
   "source": [
    "df=top_precinct.join(precinct_viol_count,top_precinct.issuer_precinct==precinct_viol_count.issuer_precinct,\"inner\").\\\n",
    "select(top_precinct.issuer_precinct,'violation_code','count',col('violation_freq').alias('total_violation_freq'))"
   ]
  },
  {
   "cell_type": "code",
   "execution_count": 56,
   "id": "b9059b7b",
   "metadata": {},
   "outputs": [
    {
     "name": "stdout",
     "output_type": "stream",
     "text": [
      "+---------------+--------------+-----+\n",
      "|issuer_precinct|violation_code|count|\n",
      "+---------------+--------------+-----+\n",
      "|             19|            46|48445|\n",
      "|             19|            38|36386|\n",
      "|             19|            37|36056|\n",
      "|             14|            14|45036|\n",
      "|             14|            69|30464|\n",
      "|             14|            31|22555|\n",
      "|              1|            14|38354|\n",
      "|              1|            16|19081|\n",
      "|              1|            20|15408|\n",
      "+---------------+--------------+-----+\n",
      "\n"
     ]
    }
   ],
   "source": [
    "window = Window.partitionBy(df['issuer_precinct']).orderBy(df['count'].desc())\n",
    "\n",
    "df.select('*', rank().over(window).alias('rank')).filter(col('rank') <= 3).\\\n",
    "sort(col('total_violation_freq').desc(),col('count').desc())\\\n",
    ".select('issuer_precinct','violation_code','count').show() "
   ]
  },
  {
   "cell_type": "code",
   "execution_count": 57,
   "id": "2866c405",
   "metadata": {},
   "outputs": [],
   "source": [
    "from pyspark.sql import functions as f\n",
    "w = Window.partitionBy('issuer_precinct')\n",
    "ranking=Window.partitionBy('issuer_precinct')\n",
    "precinct_viol_total_count= precinct_viol_count.select('issuer_precinct','violation_code','count',\\\n",
    "                                                     f.sum('count').over(w).alias('total_freq'))\n",
    "#                                                       .\\\n",
    "#                                                      rank().over(ranking).alias('rank'))\n",
    "# precinct_viol_count.withColumn('total_freq',\\\n",
    "# precinct_viol_count.groupBy(precinct_viol_count.issuer_precinct).sum(precinct_viol_count.count).\\\n",
    "# over(Window.partitionBy(precinct_viol_count.issuer_precinct)))\n",
    "\n",
    "\n",
    "\n",
    "# w = Window.partitionBy('x')\n",
    "# df.select('x', 'y', f.count('x').over(w).alias('n')).sort('x', 'y').show()\n"
   ]
  },
  {
   "cell_type": "code",
   "execution_count": 58,
   "id": "93b68aa5",
   "metadata": {},
   "outputs": [
    {
     "name": "stdout",
     "output_type": "stream",
     "text": [
      "+---------------+--------------+-----+----------+\n",
      "|issuer_precinct|violation_code|count|total_freq|\n",
      "+---------------+--------------+-----+----------+\n",
      "|              1|            14|38354|    168740|\n",
      "|              1|            16|19081|    168740|\n",
      "|              1|            20|15408|    168740|\n",
      "|              1|            46|12745|    168740|\n",
      "|              1|            38| 8535|    168740|\n",
      "+---------------+--------------+-----+----------+\n",
      "only showing top 5 rows\n",
      "\n"
     ]
    }
   ],
   "source": [
    "precinct_viol_total_count.show(5)\n"
   ]
  },
  {
   "cell_type": "code",
   "execution_count": 59,
   "id": "44be74de",
   "metadata": {},
   "outputs": [
    {
     "name": "stdout",
     "output_type": "stream",
     "text": [
      "+---------------+--------------+-----+----------+------------+-------------+\n",
      "|issuer_precinct|violation_code|count|total_freq|ranking_viol|ranking_total|\n",
      "+---------------+--------------+-----+----------+------------+-------------+\n",
      "|             19|            46|48445|    266961|           1|            1|\n",
      "|             19|            38|36386|    266961|           2|            1|\n",
      "|             19|            37|36056|    266961|           3|            1|\n",
      "|             14|            14|45036|    200495|           1|            1|\n",
      "|             14|            69|30464|    200495|           2|            1|\n",
      "|             14|            31|22555|    200495|           3|            1|\n",
      "|              1|            14|38354|    168740|           1|            1|\n",
      "|              1|            16|19081|    168740|           2|            1|\n",
      "|              1|            20|15408|    168740|           3|            1|\n",
      "|             18|            14|50150|    162994|           1|            1|\n",
      "|             18|            69|20189|    162994|           2|            1|\n",
      "|             18|            47|14107|    162994|           3|            1|\n",
      "|            114|            21|33336|    144054|           1|            1|\n",
      "|            114|            38|26952|    144054|           2|            1|\n",
      "|            114|            37|18493|    144054|           3|            1|\n",
      "|             13|            47|14495|    122490|           1|            1|\n",
      "|             13|            69|14449|    122490|           2|            1|\n",
      "|             13|            31|13143|    122490|           3|            1|\n",
      "|            109|            38|16425|    105109|           1|            1|\n",
      "|            109|            21|14696|    105109|           2|            1|\n",
      "|            109|            14|12939|    105109|           3|            1|\n",
      "|             17|            14|22027|    100641|           1|            1|\n",
      "|             17|            47|11775|    100641|           2|            1|\n",
      "|             17|            69|10759|    100641|           3|            1|\n",
      "|             70|            21|21935|     92298|           1|            1|\n",
      "|             70|            38|20133|     92298|           2|            1|\n",
      "|             70|            20| 7791|     92298|           3|            1|\n",
      "|            115|            21|16168|     85483|           1|            1|\n",
      "|            115|            38|14376|     85483|           2|            1|\n",
      "|            115|            37|10990|     85483|           3|            1|\n",
      "|             84|            14|16198|     83091|           1|            1|\n",
      "|             84|            38|11230|     83091|           2|            1|\n",
      "|             84|            21| 8971|     83091|           3|            1|\n",
      "|             61|            38|21728|     81507|           1|            1|\n",
      "|             61|            21|14031|     81507|           2|            1|\n",
      "|             61|            37| 6881|     81507|           3|            1|\n",
      "|             20|            38|14003|     80418|           1|            1|\n",
      "|             20|            37|11155|     80418|           2|            1|\n",
      "|             20|            46|10294|     80418|           3|            1|\n",
      "|             52|            21|12201|     79385|           1|            1|\n",
      "|             52|            38| 9923|     79385|           2|            1|\n",
      "|             52|            20| 7667|     79385|           3|            1|\n",
      "|            112|            38|19620|     77307|           1|            1|\n",
      "|            112|            21|12391|     77307|           2|            1|\n",
      "|            112|            37| 9898|     77307|           3|            1|\n",
      "|            108|            21|11565|     76662|           1|            1|\n",
      "|            108|            38|10956|     76662|           2|            1|\n",
      "|            108|            20| 9512|     76662|           3|            1|\n",
      "|            103|            21|10871|     72134|           1|            1|\n",
      "|            103|            38| 9620|     72134|           2|            1|\n",
      "+---------------+--------------+-----+----------+------------+-------------+\n",
      "only showing top 50 rows\n",
      "\n"
     ]
    }
   ],
   "source": [
    "ranking_total=Window.partitionBy('issuer_precinct').orderBy(col('total_freq').desc())\n",
    "ranking_viol=Window.partitionBy('issuer_precinct').orderBy(col('count').desc())\n",
    "\n",
    "precinct_viol_total_count.select('*', rank().over(ranking_total).alias('ranking_total'),\\\n",
    "                                 f.rank().over(ranking_viol).alias('ranking_viol')).\\\n",
    "filter((col('ranking_total') <= 3) & (col('ranking_viol') <= 3)).sort(col('total_freq').desc(),col('count').desc()).\\\n",
    "select('issuer_precinct','violation_code','count','total_freq','ranking_viol','ranking_total').show(50) \n",
    "# sort(col('total_freq').desc())\\"
   ]
  },
  {
   "cell_type": "code",
   "execution_count": 60,
   "id": "58380a9b",
   "metadata": {},
   "outputs": [
    {
     "name": "stdout",
     "output_type": "stream",
     "text": [
      "+---------------+--------------+-----+----------+------------+-------------+\n",
      "|issuer_precinct|violation_code|count|total_freq|ranking_viol|ranking_total|\n",
      "+---------------+--------------+-----+----------+------------+-------------+\n",
      "|             19|            46|48445|    266961|           1|            1|\n",
      "|             19|            38|36386|    266961|           2|            1|\n",
      "|             19|            37|36056|    266961|           3|            1|\n",
      "|             14|            14|45036|    200495|           1|            2|\n",
      "|             14|            69|30464|    200495|           2|            2|\n",
      "|             14|            31|22555|    200495|           3|            2|\n",
      "|              1|            14|38354|    168740|           1|            3|\n",
      "|              1|            16|19081|    168740|           2|            3|\n",
      "|              1|            20|15408|    168740|           3|            3|\n",
      "+---------------+--------------+-----+----------+------------+-------------+\n",
      "\n"
     ]
    }
   ],
   "source": [
    "ranking_total=Window.orderBy(col('total_freq').desc())\n",
    "ranking_viol=Window.partitionBy('issuer_precinct').orderBy(col('count').desc())\n",
    "\n",
    "precinct_viol_total_count.select('*',f.dense_rank().over(ranking_total).alias ('ranking_total'),\\\n",
    "                                  f.rank().over(ranking_viol).alias('ranking_viol')).\\\n",
    "filter((col('ranking_total') <= 3) & (col('ranking_viol') <= 3)).sort(col('total_freq').desc(),col('count').desc()).\\\n",
    "select('issuer_precinct','violation_code','count','total_freq','ranking_viol','ranking_total').show(50) \n",
    "# sort(col('total_freq').desc())\\"
   ]
  },
  {
   "cell_type": "code",
   "execution_count": 61,
   "id": "4a174b8b",
   "metadata": {},
   "outputs": [
    {
     "name": "stdout",
     "output_type": "stream",
     "text": [
      "+---------------+--------------+-----+----------+-------------+\n",
      "|issuer_precinct|violation_code|count|total_freq|ranking_total|\n",
      "+---------------+--------------+-----+----------+-------------+\n",
      "|              1|            14|38354|    168740|            1|\n",
      "|              1|            16|19081|    168740|            1|\n",
      "|              1|            20|15408|    168740|            1|\n",
      "|              1|            46|12745|    168740|            1|\n",
      "|              1|            38| 8535|    168740|            1|\n",
      "|              1|            17| 7526|    168740|            1|\n",
      "|              1|            37| 6470|    168740|            1|\n",
      "|              1|            31| 5853|    168740|            1|\n",
      "|              1|            69| 5672|    168740|            1|\n",
      "|              1|            19| 5375|    168740|            1|\n",
      "|              1|            10| 4712|    168740|            1|\n",
      "|              1|            40| 4592|    168740|            1|\n",
      "|              1|            21| 4055|    168740|            1|\n",
      "|              1|            71| 3581|    168740|            1|\n",
      "|              1|            84| 3310|    168740|            1|\n",
      "|              1|            42| 2708|    168740|            1|\n",
      "|              1|            51| 2223|    168740|            1|\n",
      "|              1|             9| 2206|    168740|            1|\n",
      "|              1|            70| 2183|    168740|            1|\n",
      "|              1|            48| 1907|    168740|            1|\n",
      "+---------------+--------------+-----+----------+-------------+\n",
      "only showing top 20 rows\n",
      "\n"
     ]
    }
   ],
   "source": [
    "ranking_total=Window.partitionBy(col('issuer_precinct')).orderBy(col('total_freq').desc())\n",
    "# ranking_viol=Window.partitionBy('issuer_precinct').orderBy(col('count').desc())\n",
    "\n",
    "precinct_viol_total_count.select('*', f.rank().over(ranking_total).alias('ranking_total')).\\\n",
    "select('*').show()"
   ]
  },
  {
   "cell_type": "code",
   "execution_count": 62,
   "id": "509c33a1",
   "metadata": {},
   "outputs": [
    {
     "data": {
      "text/plain": [
       "[Row(issuer_precinct=985, violation_code=50, count=8, total_freq=734),\n",
       " Row(issuer_precinct=985, violation_code=70, count=8, total_freq=734),\n",
       " Row(issuer_precinct=985, violation_code=51, count=6, total_freq=734),\n",
       " Row(issuer_precinct=985, violation_code=99, count=5, total_freq=734),\n",
       " Row(issuer_precinct=985, violation_code=46, count=5, total_freq=734),\n",
       " Row(issuer_precinct=985, violation_code=74, count=3, total_freq=734),\n",
       " Row(issuer_precinct=985, violation_code=78, count=3, total_freq=734),\n",
       " Row(issuer_precinct=985, violation_code=60, count=2, total_freq=734),\n",
       " Row(issuer_precinct=985, violation_code=67, count=1, total_freq=734),\n",
       " Row(issuer_precinct=985, violation_code=41, count=1, total_freq=734),\n",
       " Row(issuer_precinct=985, violation_code=75, count=1, total_freq=734),\n",
       " Row(issuer_precinct=986, violation_code=67, count=1, total_freq=2),\n",
       " Row(issuer_precinct=986, violation_code=71, count=1, total_freq=2),\n",
       " Row(issuer_precinct=988, violation_code=70, count=6, total_freq=12),\n",
       " Row(issuer_precinct=988, violation_code=85, count=4, total_freq=12),\n",
       " Row(issuer_precinct=988, violation_code=68, count=1, total_freq=12),\n",
       " Row(issuer_precinct=988, violation_code=21, count=1, total_freq=12),\n",
       " Row(issuer_precinct=992, violation_code=70, count=3, total_freq=5),\n",
       " Row(issuer_precinct=992, violation_code=20, count=1, total_freq=5),\n",
       " Row(issuer_precinct=992, violation_code=46, count=1, total_freq=5)]"
      ]
     },
     "execution_count": 62,
     "metadata": {},
     "output_type": "execute_result"
    }
   ],
   "source": [
    "precinct_viol_total_count.tail(20)"
   ]
  },
  {
   "cell_type": "code",
   "execution_count": null,
   "id": "b20e9ecb",
   "metadata": {},
   "outputs": [],
   "source": []
  }
 ],
 "metadata": {
  "kernelspec": {
   "display_name": "Python 3",
   "language": "python",
   "name": "python3"
  },
  "language_info": {
   "codemirror_mode": {
    "name": "ipython",
    "version": 3
   },
   "file_extension": ".py",
   "mimetype": "text/x-python",
   "name": "python",
   "nbconvert_exporter": "python",
   "pygments_lexer": "ipython3",
   "version": "3.8.8"
  },
  "toc": {
   "base_numbering": 1,
   "nav_menu": {},
   "number_sections": true,
   "sideBar": true,
   "skip_h1_title": false,
   "title_cell": "Table of Contents",
   "title_sidebar": "Contents",
   "toc_cell": false,
   "toc_position": {},
   "toc_section_display": true,
   "toc_window_display": false
  }
 },
 "nbformat": 4,
 "nbformat_minor": 5
}
