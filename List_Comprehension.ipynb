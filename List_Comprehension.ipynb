{
 "cells": [
  {
   "cell_type": "markdown",
   "id": "c3a127ae",
   "metadata": {},
   "source": [
    "<!DOCTYPE html>\n",
    "<html>\n",
    "<head>\n",
    "<meta name=\"viewport\" content=\"width=device-width, initial-scale=1\">\n",
    "<style>\n",
    "img {\n",
    "  display: block;\n",
    "  margin-left: auto;\n",
    "  margin-right: auto;\n",
    "}\n",
    "</style>\n",
    "</head>\n",
    "<body>\n",
    "<img src=\"channel.jpg\" width=\"128\" height=\"128\"/><br>\n",
    "<center><h1>\"Hello Folks! Welcome To Tier3Vision\"</h1></center>\n",
    "</body>\n",
    "</html>"
   ]
  },
  {
   "cell_type": "markdown",
   "id": "941eb277",
   "metadata": {},
   "source": [
    "## LIST COMPREHENSION"
   ]
  },
  {
   "cell_type": "markdown",
   "id": "fd456773",
   "metadata": {},
   "source": [
    "### Typical format of List Comprehensions\n",
    "\n",
    "A list comprehension typically has 3 components:\n",
    "\n",
    "The output (which can be string, number, list or any object you want to put in the list.\n",
    "\n",
    "For Statements\n",
    "\n",
    "Conditional filtering (optional)."
   ]
  },
  {
   "cell_type": "markdown",
   "id": "47489104",
   "metadata": {},
   "source": [
    "## Below is a typical format of a list comprehension.\n",
    "### [[outpt value] for (i in iterable) if (filter conditions)]"
   ]
  },
  {
   "cell_type": "code",
   "execution_count": 1,
   "id": "8e477c72",
   "metadata": {},
   "outputs": [
    {
     "data": {
      "text/plain": [
       "[0, 2, 4, 6, 8]"
      ]
     },
     "execution_count": 1,
     "metadata": {},
     "output_type": "execute_result"
    }
   ],
   "source": [
    "result = []\n",
    "for i in range(10):\n",
    "    if i%2 == 0:\n",
    "        result.append(i)\n",
    "result"
   ]
  },
  {
   "cell_type": "code",
   "execution_count": 3,
   "id": "832f3b06",
   "metadata": {},
   "outputs": [
    {
     "data": {
      "text/plain": [
       "[1, 3, 5, 7, 9]"
      ]
     },
     "execution_count": 3,
     "metadata": {},
     "output_type": "execute_result"
    }
   ],
   "source": [
    "[i for i in range(10) if i%2 != 0]"
   ]
  },
  {
   "cell_type": "code",
   "execution_count": 50,
   "id": "49e442dd",
   "metadata": {},
   "outputs": [],
   "source": [
    "x = [i**2 for i in range(0,101) if i%2 == 0]"
   ]
  },
  {
   "cell_type": "code",
   "execution_count": 51,
   "id": "3880eb45",
   "metadata": {},
   "outputs": [
    {
     "name": "stdout",
     "output_type": "stream",
     "text": [
      "[0, 4, 16, 36, 64, 100, 144, 196, 256, 324, 400, 484, 576, 676, 784, 900, 1024, 1156, 1296, 1444, 1600, 1764, 1936, 2116, 2304, 2500, 2704, 2916, 3136, 3364, 3600, 3844, 4096, 4356, 4624, 4900, 5184, 5476, 5776, 6084, 6400, 6724, 7056, 7396, 7744, 8100, 8464, 8836, 9216, 9604, 10000]\n"
     ]
    }
   ],
   "source": [
    "print(x)"
   ]
  },
  {
   "cell_type": "code",
   "execution_count": 52,
   "id": "48b9c912",
   "metadata": {},
   "outputs": [
    {
     "data": {
      "text/plain": [
       "[1, 4, 9, 16, 25]"
      ]
     },
     "execution_count": 52,
     "metadata": {},
     "output_type": "execute_result"
    }
   ],
   "source": [
    "# For Loop Version\n",
    "mylist = [1,2,3,4,5]\n",
    "result = []\n",
    "\n",
    "for i in mylist:\n",
    "    result.append(i**2)\n",
    "\n",
    "result"
   ]
  },
  {
   "cell_type": "code",
   "execution_count": 53,
   "id": "19ff39b1",
   "metadata": {},
   "outputs": [
    {
     "data": {
      "text/plain": [
       "[1, 4, 9, 16, 25]"
      ]
     },
     "execution_count": 53,
     "metadata": {},
     "output_type": "execute_result"
    }
   ],
   "source": [
    "# List Comprehension Version\n",
    "[i**2 for i in [1,2,3,4,5]]"
   ]
  },
  {
   "cell_type": "code",
   "execution_count": 54,
   "id": "60be9287",
   "metadata": {},
   "outputs": [
    {
     "data": {
      "text/plain": [
       "[4, 16]"
      ]
     },
     "execution_count": 54,
     "metadata": {},
     "output_type": "execute_result"
    }
   ],
   "source": [
    "mylist = [1,2,3,4,5]\n",
    "result = []\n",
    "\n",
    "for i in mylist:\n",
    "    if i%2==0:\n",
    "        result.append(i**2)\n",
    "\n",
    "result"
   ]
  },
  {
   "cell_type": "code",
   "execution_count": 55,
   "id": "3a690d13",
   "metadata": {},
   "outputs": [
    {
     "data": {
      "text/plain": [
       "[4, 16]"
      ]
     },
     "execution_count": 55,
     "metadata": {},
     "output_type": "execute_result"
    }
   ],
   "source": [
    "# List Comprehension Version\n",
    "[i**2 for i in [1,2,3,4,5] if i%2==0]"
   ]
  },
  {
   "cell_type": "code",
   "execution_count": 56,
   "id": "58eb9137",
   "metadata": {},
   "outputs": [
    {
     "data": {
      "text/plain": [
       "[1, 4, 27, 16, 125]"
      ]
     },
     "execution_count": 56,
     "metadata": {},
     "output_type": "execute_result"
    }
   ],
   "source": [
    "# For Loop Version\n",
    "mylist = [1,2,3,4,5]\n",
    "result = []\n",
    "\n",
    "for i in mylist:\n",
    "    if i%2==0:\n",
    "        result.append(i**2)\n",
    "    else:\n",
    "        result.append(i**3)\n",
    "\n",
    "result"
   ]
  },
  {
   "cell_type": "code",
   "execution_count": 57,
   "id": "7092b759",
   "metadata": {},
   "outputs": [
    {
     "data": {
      "text/plain": [
       "[1, 4, 27, 16, 125]"
      ]
     },
     "execution_count": 57,
     "metadata": {},
     "output_type": "execute_result"
    }
   ],
   "source": [
    "# List Comprehension Version\n",
    "[i**2 if i%2==0 else i**3 for i in [1,2,3,4,5]]"
   ]
  },
  {
   "cell_type": "code",
   "execution_count": 58,
   "id": "35110feb",
   "metadata": {},
   "outputs": [
    {
     "data": {
      "text/plain": [
       "[2, 4, 6, 8, 10, 12, 14, 16]"
      ]
     },
     "execution_count": 58,
     "metadata": {},
     "output_type": "execute_result"
    }
   ],
   "source": [
    "# For Loop Version\n",
    "mat = [[1,2,3,4], [5,6,7,8], [9,10,11,12], [13,14,15,16]]\n",
    "result = []\n",
    "for row in mat:\n",
    "    for i in row:\n",
    "        if i%2 == 0:\n",
    "            result.append(i)\n",
    "\n",
    "result"
   ]
  },
  {
   "cell_type": "code",
   "execution_count": 59,
   "id": "c57ef681",
   "metadata": {},
   "outputs": [
    {
     "data": {
      "text/plain": [
       "[2, 4, 6, 8, 10, 12, 14, 16]"
      ]
     },
     "execution_count": 59,
     "metadata": {},
     "output_type": "execute_result"
    }
   ],
   "source": [
    "# List Comprehension version\n",
    "[i for row in mat for i in row if i%2==0]"
   ]
  },
  {
   "cell_type": "code",
   "execution_count": 5,
   "id": "4510dbd1",
   "metadata": {},
   "outputs": [
    {
     "data": {
      "text/plain": [
       "[(6, 2), (4, 8), (6, 2), (1, 3), (2, 7), (2, 7)]"
      ]
     },
     "execution_count": 5,
     "metadata": {},
     "output_type": "execute_result"
    }
   ],
   "source": [
    "# For Loop Version\n",
    "mylist = [9, 3, 6, 1, 5, 0, 8, 2, 4, 7]\n",
    "list_b = [6, 4, 6, 1, 2, 2]\n",
    "#print(mylist.index(6))\n",
    "\n",
    "result = []\n",
    "for i in list_b:\n",
    "    result.append((i, mylist.index(i)))\n",
    "\n",
    "result"
   ]
  },
  {
   "cell_type": "code",
   "execution_count": 6,
   "id": "e47cd62a",
   "metadata": {},
   "outputs": [
    {
     "data": {
      "text/plain": [
       "[(6, 2), (4, 8), (6, 2), (1, 3), (2, 7), (2, 7)]"
      ]
     },
     "execution_count": 6,
     "metadata": {},
     "output_type": "execute_result"
    }
   ],
   "source": [
    "# List Comprehension version\n",
    "[(i, mylist.index(i)) for i in list_b]"
   ]
  },
  {
   "cell_type": "markdown",
   "id": "42a272b0",
   "metadata": {},
   "source": [
    "<!DOCTYPE html>\n",
    "<html>\n",
    "<head>\n",
    "<meta name=\"viewport\" content=\"width=device-width, initial-scale=1\">\n",
    "<style>\n",
    "img {\n",
    "  display: block;\n",
    "  margin-left: auto;\n",
    "  margin-right: auto;\n",
    "}\n",
    "</style>\n",
    "</head>\n",
    "<body>\n",
    "<img src=\"channel.jpg\" width=\"128\" height=\"128\"/><br>\n",
    "<center><h1>\"Hello Folks! Welcome To Tier3Vision\"</h1></center>\n",
    "</body>\n",
    "</html>"
   ]
  },
  {
   "cell_type": "markdown",
   "id": "5875dbe0",
   "metadata": {},
   "source": [
    "## Dictionary Comprehensions"
   ]
  },
  {
   "cell_type": "code",
   "execution_count": 2,
   "id": "8e222da3",
   "metadata": {},
   "outputs": [
    {
     "data": {
      "text/plain": [
       "{6: 2, 4: 8, 1: 3, 2: 7}"
      ]
     },
     "execution_count": 2,
     "metadata": {},
     "output_type": "execute_result"
    }
   ],
   "source": [
    "# For Loop Version\n",
    "mylist = [9, 3, 6, 1, 5, 0, 8, 2, 4, 7]\n",
    "list_b = [6, 4, 6, 1, 2, 2]\n",
    "\n",
    "result = {}\n",
    "for i in list_b:\n",
    "    result[i]=mylist.index(i)\n",
    "\n",
    "result"
   ]
  },
  {
   "cell_type": "code",
   "execution_count": 3,
   "id": "9c140459",
   "metadata": {},
   "outputs": [
    {
     "data": {
      "text/plain": [
       "{6: 2, 4: 8, 1: 3, 2: 7}"
      ]
     },
     "execution_count": 3,
     "metadata": {},
     "output_type": "execute_result"
    }
   ],
   "source": [
    "# List Comprehension version\n",
    "{i: mylist.index(i) for i in list_b}"
   ]
  },
  {
   "cell_type": "code",
   "execution_count": 4,
   "id": "ceefdfa7",
   "metadata": {},
   "outputs": [],
   "source": [
    "# Input:\n",
    "sentences = [\"a new world record was set\", \n",
    "             \"in the holy city of ayodhya\", \n",
    "             \"on the eve of diwali on tuesday\", \n",
    "             \"with over three lakh diya or earthen lamps\", \n",
    "             \"lit up simultaneously on the banks of the sarayu river\"]\n",
    "\n",
    "stopwords = ['for', 'a', 'of', 'the', 'and', 'to', 'in', 'on', 'with']"
   ]
  },
  {
   "cell_type": "code",
   "execution_count": 6,
   "id": "e217c166",
   "metadata": {},
   "outputs": [
    {
     "data": {
      "text/plain": [
       "[['new', 'world', 'record', 'was', 'set'],\n",
       " ['holy', 'city', 'ayodhya'],\n",
       " ['eve', 'diwali', 'tuesday'],\n",
       " ['over', 'three', 'lakh', 'diya', 'or', 'earthen', 'lamps'],\n",
       " ['lit', 'up', 'simultaneously', 'banks', 'sarayu', 'river']]"
      ]
     },
     "execution_count": 6,
     "metadata": {},
     "output_type": "execute_result"
    }
   ],
   "source": [
    "# For Loop Version\n",
    "results = []    \n",
    "for sentence in sentences:\n",
    "    sentence_tokens = []\n",
    "    for word in sentence.split(' '):\n",
    "        if word not in stopwords:\n",
    "            sentence_tokens.append(word)\n",
    "    results.append(sentence_tokens)\n",
    "\n",
    "results"
   ]
  },
  {
   "cell_type": "code",
   "execution_count": 7,
   "id": "49607e8b",
   "metadata": {},
   "outputs": [
    {
     "name": "stdout",
     "output_type": "stream",
     "text": [
      "['new', 'world', 'record', 'was', 'set', 'holy', 'city', 'ayodhya', 'eve', 'diwali', 'tuesday', 'over', 'three', 'lakh', 'diya', 'or', 'earthen', 'lamps', 'lit', 'up', 'simultaneously', 'banks', 'sarayu', 'river']\n"
     ]
    }
   ],
   "source": [
    "print([word for sentence in sentences for word in sentence.split(' ') if word not in stopwords])"
   ]
  },
  {
   "cell_type": "code",
   "execution_count": 8,
   "id": "560a51cb",
   "metadata": {},
   "outputs": [
    {
     "data": {
      "text/plain": [
       "[['new', 'world', 'record', 'was', 'set'],\n",
       " ['holy', 'city', 'ayodhya'],\n",
       " ['eve', 'diwali', 'tuesday'],\n",
       " ['over', 'three', 'lakh', 'diya', 'or', 'earthen', 'lamps'],\n",
       " ['lit', 'up', 'simultaneously', 'banks', 'sarayu', 'river']]"
      ]
     },
     "execution_count": 8,
     "metadata": {},
     "output_type": "execute_result"
    }
   ],
   "source": [
    "# List Comprehension Version\n",
    "[[word for word in sentence.split() if word not in stopwords] for sentence in sentences]"
   ]
  },
  {
   "cell_type": "code",
   "execution_count": 22,
   "id": "874849c5",
   "metadata": {},
   "outputs": [],
   "source": [
    "# Input\n",
    "mylist = [1, 2, 3, 4, 5, 6, 7, 8, 9, 10]\n",
    "\n",
    "# Desired Output\n",
    "# [1, 2, -3, -4, -5, -6, -7, -8, 9, 10]"
   ]
  },
  {
   "cell_type": "code",
   "execution_count": 9,
   "id": "c15ac300",
   "metadata": {},
   "outputs": [
    {
     "data": {
      "text/plain": [
       "[9, -3, -6, 1, -5, 0, -8, 2, -4, -7]"
      ]
     },
     "execution_count": 9,
     "metadata": {},
     "output_type": "execute_result"
    }
   ],
   "source": [
    "[-i if  2 < i < 9 else i for i in mylist]"
   ]
  },
  {
   "cell_type": "code",
   "execution_count": 24,
   "id": "4f6f1d81",
   "metadata": {},
   "outputs": [],
   "source": [
    "# Desired output\n",
    "# {'a': 1, 'b': 2, 'c': 3, 'd': 4, 'e': 5, 'f': 6,\n",
    "#  'g': 7, 'h': 8, 'i': 9, 'j': 10, 'k': 11, 'l': 12,\n",
    "#  'm': 13, 'n': 14, 'o': 15, 'p': 16, 'q': 17, 'r': 18,\n",
    "#  's': 19, 't': 20, 'u': 21, 'v': 22, 'w': 23, 'x': 24,\n",
    "#  'y': 25, 'z': 26}"
   ]
  },
  {
   "cell_type": "code",
   "execution_count": 10,
   "id": "f00471b9",
   "metadata": {},
   "outputs": [
    {
     "name": "stdout",
     "output_type": "stream",
     "text": [
      "{'a': 1, 'b': 2, 'c': 3, 'd': 4, 'e': 5, 'f': 6, 'g': 7, 'h': 8, 'i': 9, 'j': 10, 'k': 11, 'l': 12, 'm': 13, 'n': 14, 'o': 15, 'p': 16, 'q': 17, 'r': 18, 's': 19, 't': 20, 'u': 21, 'v': 22, 'w': 23, 'x': 24, 'y': 25, 'z': 26}\n"
     ]
    }
   ],
   "source": [
    "print({chr(i+97):i+1 for i in range(26)})"
   ]
  },
  {
   "cell_type": "code",
   "execution_count": 11,
   "id": "caf03e04",
   "metadata": {},
   "outputs": [],
   "source": [
    "# Input\n",
    "sentences = [\"The Hubble Space telescope has spotted\", \n",
    "             \"a formation of galaxies that resembles\", \n",
    "             \"a smiling face in the sky sky\"]\n",
    "\n",
    "stopwords = ['for', 'a', 'of', 'the', 'and', 'to', 'in', 'on', 'with']\n",
    "\n",
    "# Desired output:\n",
    "# {'face', 'telescope', 'formation', 'smiling', 'hubble', 'spotted', \n",
    "# 'resembles', 'has', 'sky', 'galaxies', 'that', 'space'}"
   ]
  },
  {
   "cell_type": "code",
   "execution_count": 12,
   "id": "f3470937",
   "metadata": {},
   "outputs": [
    {
     "name": "stdout",
     "output_type": "stream",
     "text": [
      "{'hubble', 'telescope', 'smiling', 'that', 'sky', 'face', 'galaxies', 'has', 'formation', 'spotted', 'resembles', 'space'}\n"
     ]
    }
   ],
   "source": [
    "print({word for sentence in sentences for word in sentence.lower().split() if word not in stopwords})"
   ]
  },
  {
   "cell_type": "code",
   "execution_count": 13,
   "id": "39269169",
   "metadata": {},
   "outputs": [],
   "source": [
    "# Input\n",
    "sentences = [\"The Hubble Space telescope has spotted\", \n",
    "             \"a formation of galaxies that resembles\", \n",
    "             \"a smiling face in the sky\", \n",
    "             \"The image taken with the Wide Field Camera\", \n",
    "             \"shows a patch of space filled with galaxies\", \n",
    "             \"of all shapes, colours and sizes\"]\n",
    "\n",
    "stopwords = ['for', 'a', 'of', 'the', 'and', 'to', 'in', 'on', 'with']\n",
    "\n",
    "# Desired Output\n",
    "# [['hubble', 'space', 'telescope', 'has', 'spotted'],\n",
    "#  ['formation', 'galaxies', 'that', 'resembles'],\n",
    "#  ['smiling', 'face', 'sky'],\n",
    "#  ['the', 'image', 'taken', 'wide', 'field', 'camera'],\n",
    "#  ['shows', 'patch', 'space', 'filled', 'galaxies'],\n",
    "#  ['all', 'shapes,', 'colours', 'sizes']]"
   ]
  },
  {
   "cell_type": "code",
   "execution_count": 14,
   "id": "a45f96f8",
   "metadata": {},
   "outputs": [
    {
     "data": {
      "text/plain": [
       "[['hubble', 'space', 'telescope', 'has', 'spotted'],\n",
       " ['formation', 'galaxies', 'that', 'resembles'],\n",
       " ['smiling', 'face', 'sky'],\n",
       " ['image', 'taken', 'wide', 'field', 'camera'],\n",
       " ['shows', 'patch', 'space', 'filled', 'galaxies'],\n",
       " ['all', 'shapes,', 'colours', 'sizes']]"
      ]
     },
     "execution_count": 14,
     "metadata": {},
     "output_type": "execute_result"
    }
   ],
   "source": [
    "[[word for word in sentence.lower().split() if word not in stopwords] for sentence in sentences]"
   ]
  },
  {
   "cell_type": "markdown",
   "id": "853b6685",
   "metadata": {},
   "source": [
    "# Map Function"
   ]
  },
  {
   "cell_type": "code",
   "execution_count": 15,
   "id": "f5697ef7",
   "metadata": {},
   "outputs": [],
   "source": [
    "def fact(n):\n",
    "    if n == 0:\n",
    "        return 1\n",
    "    else:\n",
    "        return n* fact(n-1)"
   ]
  },
  {
   "cell_type": "code",
   "execution_count": 16,
   "id": "3daa6bf9",
   "metadata": {},
   "outputs": [
    {
     "data": {
      "text/plain": [
       "120"
      ]
     },
     "execution_count": 16,
     "metadata": {},
     "output_type": "execute_result"
    }
   ],
   "source": [
    "fact(5)"
   ]
  },
  {
   "cell_type": "code",
   "execution_count": 17,
   "id": "3028d1c9",
   "metadata": {},
   "outputs": [],
   "source": [
    "lt=[0,1,2,3,4,5]"
   ]
  },
  {
   "cell_type": "code",
   "execution_count": 18,
   "id": "e4db6277",
   "metadata": {},
   "outputs": [
    {
     "data": {
      "text/plain": [
       "<map at 0x7fa898015fa0>"
      ]
     },
     "execution_count": 18,
     "metadata": {},
     "output_type": "execute_result"
    }
   ],
   "source": [
    "map(fact,lt)"
   ]
  },
  {
   "cell_type": "code",
   "execution_count": 19,
   "id": "c2835db6",
   "metadata": {},
   "outputs": [
    {
     "data": {
      "text/plain": [
       "[1, 1, 2, 6, 24, 120]"
      ]
     },
     "execution_count": 19,
     "metadata": {},
     "output_type": "execute_result"
    }
   ],
   "source": [
    "list(map(fact,lt))"
   ]
  },
  {
   "cell_type": "code",
   "execution_count": 20,
   "id": "e8d3deb7",
   "metadata": {},
   "outputs": [],
   "source": [
    "t=[i**2+2 for i in range(20) if i % 2 ==0 and i > 3]"
   ]
  },
  {
   "cell_type": "code",
   "execution_count": 22,
   "id": "4db8b156",
   "metadata": {},
   "outputs": [
    {
     "data": {
      "text/plain": [
       "[18, 38, 66, 102, 146, 198, 258, 326]"
      ]
     },
     "execution_count": 22,
     "metadata": {},
     "output_type": "execute_result"
    }
   ],
   "source": [
    "t"
   ]
  },
  {
   "cell_type": "code",
   "execution_count": 23,
   "id": "696c0b94",
   "metadata": {},
   "outputs": [],
   "source": [
    "my_list=[6,4,3,5,2,4,2]"
   ]
  },
  {
   "cell_type": "code",
   "execution_count": 24,
   "id": "45b9d379",
   "metadata": {},
   "outputs": [],
   "source": [
    "squared_list_lambda = list(map(lambda x: x**2, my_list))"
   ]
  },
  {
   "cell_type": "code",
   "execution_count": 25,
   "id": "c52ec54a",
   "metadata": {},
   "outputs": [
    {
     "data": {
      "text/plain": [
       "[36, 16, 9, 25, 4, 16, 4]"
      ]
     },
     "execution_count": 25,
     "metadata": {},
     "output_type": "execute_result"
    }
   ],
   "source": [
    "squared_list_lambda"
   ]
  },
  {
   "cell_type": "code",
   "execution_count": 26,
   "id": "afe741d3",
   "metadata": {},
   "outputs": [
    {
     "data": {
      "text/plain": [
       "[2, 4, 6, 8, 10]"
      ]
     },
     "execution_count": 26,
     "metadata": {},
     "output_type": "execute_result"
    }
   ],
   "source": [
    "#MAP Function, takes input as function and list. applies function on list and returns the value as a map object\n",
    "list1 = [1,2,3,4]\n",
    "list(map(lambda x:x*x,list1)) # [1, 4, 9, 16]\n",
    "\n",
    "#reduce takes 2 items at once as input from sequence. it makes an inverted tree\n",
    "from functools import reduce\n",
    "list2 = [1,2,3,4,5,6,7,8,9,10]\n",
    "reduce(lambda x,y: x+y, list2) # 55\n",
    "\n",
    "list2 = [1,2,3,4,5,6,7,8,9,10]\n",
    "list(filter(lambda x: x%2==0,list2)) # [2, 4, 6, 8, 10]"
   ]
  },
  {
   "cell_type": "code",
   "execution_count": 27,
   "id": "2317bc0b",
   "metadata": {},
   "outputs": [
    {
     "name": "stdout",
     "output_type": "stream",
     "text": [
      "\n",
      "The power value is : \n",
      "\n",
      "<map object at 0x7fa888cf62e0>\n",
      "[1, 4, 9, 16, 25, 36, 49, 64, 81, 100, 121, 144, 169, 196, 225]\n"
     ]
    }
   ],
   "source": [
    "List = [ 1, 2, 3, 4, 5, 6, 7, 8, 9, 10 , 11, 12, 13, 14, 15 ]\n",
    "\n",
    "Power = map( lambda n : pow( n ,2 ) , List )\n",
    "\n",
    "print (\"\\nThe power value is : \\n\")\n",
    "\n",
    "print( Power )\n",
    "\n",
    "print ( list( Power ) )"
   ]
  },
  {
   "cell_type": "code",
   "execution_count": 28,
   "id": "2fa59db9",
   "metadata": {},
   "outputs": [],
   "source": [
    "a=lambda x:x+5"
   ]
  },
  {
   "cell_type": "code",
   "execution_count": 29,
   "id": "b1c60c8a",
   "metadata": {},
   "outputs": [
    {
     "data": {
      "text/plain": [
       "10"
      ]
     },
     "execution_count": 29,
     "metadata": {},
     "output_type": "execute_result"
    }
   ],
   "source": [
    "a(5)"
   ]
  },
  {
   "cell_type": "code",
   "execution_count": 30,
   "id": "940a4788",
   "metadata": {},
   "outputs": [
    {
     "data": {
      "text/plain": [
       "7"
      ]
     },
     "execution_count": 30,
     "metadata": {},
     "output_type": "execute_result"
    }
   ],
   "source": [
    "a(2)"
   ]
  },
  {
   "cell_type": "code",
   "execution_count": 31,
   "id": "9184b41c",
   "metadata": {},
   "outputs": [],
   "source": [
    "b=lambda x: x **2"
   ]
  },
  {
   "cell_type": "code",
   "execution_count": 32,
   "id": "deda092f",
   "metadata": {},
   "outputs": [
    {
     "data": {
      "text/plain": [
       "36"
      ]
     },
     "execution_count": 32,
     "metadata": {},
     "output_type": "execute_result"
    }
   ],
   "source": [
    "b(6)"
   ]
  },
  {
   "cell_type": "code",
   "execution_count": null,
   "id": "fadc00ba",
   "metadata": {},
   "outputs": [],
   "source": []
  }
 ],
 "metadata": {
  "kernelspec": {
   "display_name": "Python 3 (ipykernel)",
   "language": "python",
   "name": "python3"
  },
  "language_info": {
   "codemirror_mode": {
    "name": "ipython",
    "version": 3
   },
   "file_extension": ".py",
   "mimetype": "text/x-python",
   "name": "python",
   "nbconvert_exporter": "python",
   "pygments_lexer": "ipython3",
   "version": "3.9.7"
  },
  "toc": {
   "base_numbering": 1,
   "nav_menu": {},
   "number_sections": true,
   "sideBar": true,
   "skip_h1_title": false,
   "title_cell": "Table of Contents",
   "title_sidebar": "Contents",
   "toc_cell": false,
   "toc_position": {},
   "toc_section_display": true,
   "toc_window_display": false
  }
 },
 "nbformat": 4,
 "nbformat_minor": 5
}
